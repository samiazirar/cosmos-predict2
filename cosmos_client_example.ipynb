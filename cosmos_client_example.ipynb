{
 "cells": [
  {
   "cell_type": "markdown",
   "id": "f7a74366",
   "metadata": {},
   "source": [
    "# Cosmos Video Generation Client - Interactive Example\n",
    "\n",
    "This notebook demonstrates how to use the Cosmos Video Client to generate videos from text prompts and optional images."
   ]
  },
  {
   "cell_type": "markdown",
   "id": "d740934a",
   "metadata": {},
   "source": [
    "## Setup and Imports"
   ]
  },
  {
   "cell_type": "code",
   "execution_count": null,
   "id": "a9d8692d",
   "metadata": {},
   "outputs": [],
   "source": [
    "# Import the client\n",
    "from cosmos_client import CosmosVideoClient\n",
    "import os\n",
    "from IPython.display import Video, Image, display\n",
    "from PIL import Image as PILImage, ImageDraw\n",
    "import requests\n",
    "import time"
   ]
  },
  {
   "cell_type": "markdown",
   "id": "8f13f62e",
   "metadata": {},
   "source": [
    "## Initialize Client and Check Service"
   ]
  },
  {
   "cell_type": "code",
   "execution_count": null,
   "id": "8abb41da",
   "metadata": {},
   "outputs": [],
   "source": [
    "# Initialize the client\n",
    "client = CosmosVideoClient(\"http://localhost:8001\")\n",
    "\n",
    "# Check if service is running\n",
    "try:\n",
    "    health = client.health_check()\n",
    "    print(\"✅ Cosmos service is running!\")\n",
    "    print(f\"Model: {health['cosmos_config']['model_size']}\")\n",
    "    print(f\"GPUs: {health['cosmos_config']['num_gpus']}\")\n",
    "    print(f\"Output directory: {health['output_dir']}\")\n",
    "except Exception as e:\n",
    "    print(f\"❌ Service not available: {e}\")\n",
    "    print(\"Make sure to start the service with:\")\n",
    "    print(\"uvicorn cosmos_video_service:app --port 8001\")"
   ]
  },
  {
   "cell_type": "markdown",
   "id": "60e64d41",
   "metadata": {},
   "source": [
    "## Example 1: Generate Video from Text Only"
   ]
  },
  {
   "cell_type": "code",
   "execution_count": null,
   "id": "741297ac",
   "metadata": {},
   "outputs": [],
   "source": [
    "# Simple text-to-video generation\n",
    "prompt = \"A robot arm picking up a red apple from a wooden table\"\n",
    "\n",
    "print(f\"Generating video with prompt: {prompt}\")\n",
    "print(\"This may take a few minutes...\")\n",
    "\n",
    "result = client.generate_video_openai_style(prompt=prompt)\n",
    "\n",
    "if result[\"success\"]:\n",
    "    print(\"✅ Video generated successfully!\")\n",
    "    print(f\"Video URL: {result['video_url']}\")\n",
    "    \n",
    "    # Download and display the video\n",
    "    video_path = \"/tmp/example1_video.mp4\"\n",
    "    if client.download_video(result['full_url'], video_path):\n",
    "        print(f\"Video saved to: {video_path}\")\n",
    "        # Display in notebook\n",
    "        display(Video(video_path, width=400))\n",
    "else:\n",
    "    print(f\"❌ Generation failed: {result['error']}\")"
   ]
  },
  {
   "cell_type": "markdown",
   "id": "777315f3",
   "metadata": {},
   "source": [
    "## Example 2: Create a Test Image and Generate Video"
   ]
  },
  {
   "cell_type": "code",
   "execution_count": null,
   "id": "1cec00d6",
   "metadata": {},
   "outputs": [],
   "source": [
    "# Create a simple test image\n",
    "def create_test_image():\n",
    "    img = PILImage.new('RGB', (512, 512), color='lightblue')\n",
    "    draw = ImageDraw.Draw(img)\n",
    "    \n",
    "    # Draw a simple scene\n",
    "    # Table\n",
    "    draw.rectangle([50, 350, 450, 400], fill='brown', outline='black', width=2)\n",
    "    \n",
    "    # Apple\n",
    "    draw.ellipse([200, 300, 250, 350], fill='red', outline='darkred', width=2)\n",
    "    \n",
    "    # Robot arm (simplified)\n",
    "    draw.rectangle([300, 200, 320, 300], fill='gray', outline='black', width=2)\n",
    "    draw.rectangle([290, 280, 330, 300], fill='darkgray', outline='black', width=2)\n",
    "    \n",
    "    return img\n",
    "\n",
    "# Create and save the test image\n",
    "test_img = create_test_image()\n",
    "test_img_path = \"/tmp/test_scene.jpg\"\n",
    "test_img.save(test_img_path, \"JPEG\", quality=95)\n",
    "\n",
    "print(\"Created test image:\")\n",
    "display(Image(test_img_path, width=300))"
   ]
  },
  {
   "cell_type": "code",
   "execution_count": null,
   "id": "b649f0a7",
   "metadata": {},
   "outputs": [],
   "source": [
    "# Generate video from image + prompt\n",
    "prompt_with_image = \"The robot arm moves down and grasps the apple, then lifts it up\"\n",
    "\n",
    "print(f\"Generating video with image and prompt: {prompt_with_image}\")\n",
    "print(\"This may take a few minutes...\")\n",
    "\n",
    "result = client.generate_video_openai_style(\n",
    "    prompt=prompt_with_image,\n",
    "    image_path=test_img_path\n",
    ")\n",
    "\n",
    "if result[\"success\"]:\n",
    "    print(\"✅ Video generated successfully!\")\n",
    "    print(f\"Metadata: {result.get('metadata', {})}\")\n",
    "    \n",
    "    # Download and display\n",
    "    video_path = \"/tmp/example2_video.mp4\"\n",
    "    if client.download_video(result['full_url'], video_path):\n",
    "        print(f\"Video saved to: {video_path}\")\n",
    "        display(Video(video_path, width=400))\n",
    "else:\n",
    "    print(f\"❌ Generation failed: {result['error']}\")"
   ]
  },
  {
   "cell_type": "markdown",
   "id": "25a7b13f",
   "metadata": {},
   "source": [
    "## Example 3: Using Direct API"
   ]
  },
  {
   "cell_type": "code",
   "execution_count": null,
   "id": "e3c3a5b6",
   "metadata": {},
   "outputs": [],
   "source": [
    "# Use the direct API for more control\n",
    "direct_prompt = \"A cat walking across a kitchen counter, knocking over a plant\"\n",
    "\n",
    "print(f\"Using direct API with prompt: {direct_prompt}\")\n",
    "\n",
    "result = client.generate_video_direct(\n",
    "    prompt=direct_prompt,\n",
    "    # You can specify model parameters here\n",
    "    # model_size=\"14B\",\n",
    "    # num_gpus=1\n",
    ")\n",
    "\n",
    "if result[\"success\"]:\n",
    "    print(\"✅ Video generated with direct API!\")\n",
    "    print(f\"Video path on server: {result['video_path']}\")\n",
    "    print(f\"Model size used: {result.get('model_size', 'default')}\")\n",
    "    \n",
    "    # Download and display\n",
    "    video_path = \"/tmp/example3_video.mp4\"\n",
    "    if client.download_video(result['full_download_url'], video_path):\n",
    "        print(f\"Video saved to: {video_path}\")\n",
    "        display(Video(video_path, width=400))\n",
    "else:\n",
    "    print(f\"❌ Generation failed: {result['error']}\")"
   ]
  },
  {
   "cell_type": "markdown",
   "id": "2d073c10",
   "metadata": {},
   "source": [
    "## Example 4: Interactive Prompt Input"
   ]
  },
  {
   "cell_type": "code",
   "execution_count": null,
   "id": "c50fc151",
   "metadata": {},
   "outputs": [],
   "source": [
    "# Interactive example - you can modify this cell to try different prompts\n",
    "\n",
    "# Some example prompts to try:\n",
    "example_prompts = [\n",
    "    \"A paper airplane flying through a sunny office\",\n",
    "    \"Rain falling on a window while coffee steams in a mug\",\n",
    "    \"A butterfly landing on a flower in a garden\",\n",
    "    \"A toy car driving around obstacles on a desk\",\n",
    "    \"Leaves falling from a tree in autumn wind\"\n",
    "]\n",
    "\n",
    "print(\"Example prompts you can try:\")\n",
    "for i, prompt in enumerate(example_prompts, 1):\n",
    "    print(f\"{i}. {prompt}\")\n",
    "\n",
    "# Modify this line to use your own prompt:\n",
    "custom_prompt = example_prompts[0]  # Change index or replace with your own prompt\n",
    "\n",
    "print(f\"\\nUsing prompt: {custom_prompt}\")\n",
    "print(\"Generating...\")\n",
    "\n",
    "start_time = time.time()\n",
    "result = client.generate_video_openai_style(prompt=custom_prompt)\n",
    "generation_time = time.time() - start_time\n",
    "\n",
    "if result[\"success\"]:\n",
    "    print(f\"✅ Generated in {generation_time:.1f} seconds!\")\n",
    "    \n",
    "    video_path = \"/tmp/custom_video.mp4\"\n",
    "    if client.download_video(result['full_url'], video_path):\n",
    "        file_size = os.path.getsize(video_path) / (1024 * 1024)  # MB\n",
    "        print(f\"Video saved: {video_path} ({file_size:.1f} MB)\")\n",
    "        display(Video(video_path, width=400))\n",
    "else:\n",
    "    print(f\"❌ Failed: {result['error']}\")"
   ]
  },
  {
   "cell_type": "markdown",
   "id": "bc770d64",
   "metadata": {},
   "source": [
    "## Utility: Check Generated Videos"
   ]
  },
  {
   "cell_type": "code",
   "execution_count": null,
   "id": "b914cd61",
   "metadata": {},
   "outputs": [],
   "source": [
    "# List all generated videos in /tmp\n",
    "import glob\n",
    "\n",
    "video_files = glob.glob(\"/tmp/*video*.mp4\") + glob.glob(\"/tmp/cosmos_*.mp4\")\n",
    "\n",
    "if video_files:\n",
    "    print(\"Generated videos:\")\n",
    "    for video_file in video_files:\n",
    "        size_mb = os.path.getsize(video_file) / (1024 * 1024)\n",
    "        print(f\"  {video_file} ({size_mb:.1f} MB)\")\n",
    "    \n",
    "    # Display the latest one\n",
    "    latest_video = max(video_files, key=os.path.getctime)\n",
    "    print(f\"\\nMost recent video: {latest_video}\")\n",
    "    display(Video(latest_video, width=400))\n",
    "else:\n",
    "    print(\"No generated videos found in /tmp\")"
   ]
  },
  {
   "cell_type": "markdown",
   "id": "b50ec02a",
   "metadata": {},
   "source": [
    "## Summary\n",
    "\n",
    "This notebook showed how to:\n",
    "1. Initialize the Cosmos Video Client\n",
    "2. Generate videos from text prompts only\n",
    "3. Generate videos from text + image input\n",
    "4. Use both OpenAI-compatible and direct APIs\n",
    "5. Download and display generated videos\n",
    "\n",
    "**Next steps:**\n",
    "- Try your own prompts and images\n",
    "- Experiment with different model parameters\n",
    "- Use the client in your own applications"
   ]
  }
 ],
 "metadata": {
  "language_info": {
   "name": "python"
  }
 },
 "nbformat": 4,
 "nbformat_minor": 5
}
